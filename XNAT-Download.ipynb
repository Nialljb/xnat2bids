{
 "cells": [
  {
   "cell_type": "markdown",
   "metadata": {},
   "source": [
    "#  Downloading data from XNAT\n",
    "(n.bourke@imperial.ac.uk)\n",
    "  \n",
    "#### Version 3.0 ~ Niall Bourke    \n",
    "\n",
    "Updates: \n",
    "~ 2018 Maria Yanez-Lopez  \n",
    "~ 24/09/2019: Checks for data that is already pulled from xnat to allow rolling updating of data on the HPC  \n",
    "~ 12/10/2021: Adapting for new broken XNAT. **Requires project access**  \n",
    "~ Nov 2021: incorporation of BIDS converter scripts  \n",
    " \n",
    "  \n",
    "### Documentation: \n",
    "\n",
    "\n",
    "** Need to check and update BIDS scripts!! **\n",
    "\n",
    "\n",
    "This scripts downloads DICOM data from XNAT according to users specifications.\n",
    "\n",
    "Works with python version py2.7 (upadte envionment libraries for py3 for continued support)\n",
    "\n",
    "https://github.com/pyxnat/pyxnat/blob/master/pyxnat/core/downloadutils.py\n",
    "\n",
    "https://groups.google.com/forum/#!topic/xnat_discussion/K8h4VP4CBMg\n",
    "\n",
    "https://gist.github.com/mattsouth/db8f2d09acf3c57ba605fa93c4e8d03e\n",
    "\n",
    "https://ubuntuforums.org/showthread.php?t=786879\n",
    "\n",
    "https://wiki.imperial.ac.uk/pages/viewpage.action?spaceKey=HPC&title=Jupyter\n"
   ]
  },
  {
   "cell_type": "markdown",
   "metadata": {},
   "source": [
    "### Import python libraries"
   ]
  },
  {
   "cell_type": "code",
   "execution_count": 1,
   "metadata": {},
   "outputs": [
    {
     "ename": "ModuleNotFoundError",
     "evalue": "No module named 'pyxnat'",
     "output_type": "error",
     "traceback": [
      "\u001b[0;31m---------------------------------------------------------------------------\u001b[0m",
      "\u001b[0;31mModuleNotFoundError\u001b[0m                       Traceback (most recent call last)",
      "\u001b[0;32m<ipython-input-1-9ca75831b017>\u001b[0m in \u001b[0;36m<module>\u001b[0;34m\u001b[0m\n\u001b[1;32m      1\u001b[0m \u001b[0;32mimport\u001b[0m \u001b[0msys\u001b[0m\u001b[0;34m,\u001b[0m \u001b[0mos\u001b[0m\u001b[0;34m,\u001b[0m \u001b[0mgetpass\u001b[0m\u001b[0;34m\u001b[0m\u001b[0;34m\u001b[0m\u001b[0m\n\u001b[0;32m----> 2\u001b[0;31m \u001b[0;32mfrom\u001b[0m \u001b[0mpyxnat\u001b[0m \u001b[0;32mimport\u001b[0m \u001b[0mInterface\u001b[0m\u001b[0;34m\u001b[0m\u001b[0;34m\u001b[0m\u001b[0m\n\u001b[0m\u001b[1;32m      3\u001b[0m \u001b[0;34m\u001b[0m\u001b[0m\n\u001b[1;32m      4\u001b[0m \u001b[0;32mimport\u001b[0m \u001b[0mpandas\u001b[0m \u001b[0;32mas\u001b[0m \u001b[0mpd\u001b[0m\u001b[0;34m\u001b[0m\u001b[0;34m\u001b[0m\u001b[0m\n",
      "\u001b[0;31mModuleNotFoundError\u001b[0m: No module named 'pyxnat'"
     ]
    }
   ],
   "source": [
    "import sys, os, getpass                           \n",
    "from pyxnat import Interface\n",
    "\n",
    "import pandas as pd"
   ]
  },
  {
   "cell_type": "markdown",
   "metadata": {},
   "source": [
    "### Introduce your XNAT login details (same as college credentials) and project folder"
   ]
  },
  {
   "cell_type": "code",
   "execution_count": 2,
   "metadata": {},
   "outputs": [
    {
     "name": "stdin",
     "output_type": "stream",
     "text": [
      "Type XNAT User Name:  nbourke\n",
      "Type XNAT Password:  ·········\n"
     ]
    }
   ],
   "source": [
    "userName = raw_input('Type XNAT User Name: ')\n",
    "passWord = getpass.getpass('Type XNAT Password: ')\n",
    "projectID = raw_input('Type XNAT Project ID: ')\n",
    "server = 'http://cif-xnat.hh.med.ic.ac.uk'"
   ]
  },
  {
   "cell_type": "code",
   "execution_count": 3,
   "metadata": {},
   "outputs": [
    {
     "name": "stdout",
     "output_type": "stream",
     "text": [
      "INPUT\n",
      "Server:  http://cif-xnat.hh.med.ic.ac.uk\n",
      "Username:  nbourke\n",
      "Password:  *********\n",
      "ProjectID:  ML\n"
     ]
    }
   ],
   "source": [
    "print 'INPUT'\n",
    "print 'Server: ', server\n",
    "print 'Username: ', userName\n",
    "print 'Password: ', ''.join(['*']*len(passWord))\n",
    "print 'ProjectID: ', projectID "
   ]
  },
  {
   "cell_type": "markdown",
   "metadata": {},
   "source": [
    "### Create PYXNAT interface"
   ]
  },
  {
   "cell_type": "code",
   "execution_count": 4,
   "metadata": {},
   "outputs": [
    {
     "name": "stdout",
     "output_type": "stream",
     "text": [
      "['CIF3_S04363']\n"
     ]
    }
   ],
   "source": [
    "central = Interface(server=server, user=userName, password=passWord)\n",
    "\n",
    "# Full project download:\n",
    "subjects = central.select.project(projectID).subjects().get()\n",
    "\n",
    "# individual subject:\n",
    "#subID= \"CIF3_S04363\" \n",
    "\n",
    "subjects = central.select.project(projectID).subjects(subID).get()\n",
    "print(subjects)\n",
    "#head(subjects)\n",
    "allSessions = []\n",
    "number_subjects = 0"
   ]
  },
  {
   "cell_type": "markdown",
   "metadata": {},
   "source": [
    "### Browse through project, collect subjects/sessions/scans and print subject labels"
   ]
  },
  {
   "cell_type": "code",
   "execution_count": 7,
   "metadata": {},
   "outputs": [
    {
     "name": "stdout",
     "output_type": "stream",
     "text": [
      "CIF3430 1/1\n"
     ]
    }
   ],
   "source": [
    "for i, subject in enumerate(subjects):\n",
    "    label = central.select.project(projectID).subject(subject).label()\n",
    "    print label, ('%i/%i' % (i+1, len(subjects)))\n",
    "    sessions = central.select.project(projectID).subjects(subject).experiments().get()\n",
    "    allSessions.append(sessions)"
   ]
  },
  {
   "cell_type": "markdown",
   "metadata": {},
   "source": [
    "## Modify the output diretory, where the datasets will be saved from XNAT\n",
    "\n",
    "* The path is currently set to c3nl_djs_working_dir/ephemeral direcotry and will download to a folder with the name of project being downloaded\n",
    "* For curation purposes a defined location should be set to host the raw data\n"
   ]
  },
  {
   "cell_type": "code",
   "execution_count": 9,
   "metadata": {},
   "outputs": [
    {
     "name": "stdout",
     "output_type": "stream",
     "text": [
      "('Directory ', '/rds/general/project/c3nl_djs_working_dir/ephemeral/ML', ' Created ')\n"
     ]
    }
   ],
   "source": [
    "dirName = os.path.join('/rds/general/project/c3nl_djs_working_dir/ephemeral/', projectID, '/raw')\n",
    "\n",
    "# Create target Directory if don't exist\n",
    "if not os.path.exists(dirName):\n",
    "    os.mkdir(dirName)\n",
    "    print(\"Directory \" , dirName ,  \" Created \")\n",
    "else:    \n",
    "    print(\"Directory \" , dirName ,  \" already exists\")\n",
    "    \n",
    "Results_Dir = dirName # needs to exist or next cell will throw error\n",
    "base_dir = ('/rds/general/project/c3nl_djs_working_dir/ephemeral/' + projectID)"
   ]
  },
  {
   "cell_type": "markdown",
   "metadata": {},
   "source": [
    "### Download datasets\n",
    "This script will look into the predefined project. Check the printed output to look for duplicates and incomplete datasets."
   ]
  },
  {
   "cell_type": "code",
   "execution_count": 18,
   "metadata": {},
   "outputs": [
    {
     "name": "stdout",
     "output_type": "stream",
     "text": [
      "('Downloading:', 'ML109')\n",
      "The total number of scanning sessions downloaded is = 3\n"
     ]
    }
   ],
   "source": [
    "import glob \n",
    "\n",
    "subjectCounter = 0\n",
    "for s, subjectID in enumerate(subjects):\n",
    "    subjectLabel = central.select.project(projectID).subject(subjectID).label()\n",
    "    \n",
    "    for experimentID in allSessions[s]:\n",
    "            scans = central.select.project(projectID).subject(subjectID).experiments(experimentID).scans()\n",
    "            scanIDs = scans.get()\n",
    "            \n",
    "            coll = central.select.project(projectID).subject(subjectID).experiments(experimentID)\n",
    "            for ese in coll:\n",
    "                explab = ese.attrs.get('label')\n",
    "            \n",
    "            # Check if data has already been pulled\n",
    "            dataCheck = glob.glob(Results_Dir + \"/\" + subjectLabel + \"/*\" + explab )\n",
    "            #print(\"sub label is: \" + subjectLabel)\n",
    "            #print(\"exp label is: \" + explab)\n",
    "            dataCheck = ''.join(dataCheck) # covert list to string\n",
    "            #print(\"data path is: \" + dataCheck)\n",
    "            if not os.path.exists(dataCheck):\n",
    "                print(\"Downloading:\", explab)        \n",
    "                number_subjects+=1\n",
    "            \n",
    "                if len(scanIDs) == 0:\n",
    "                    print(\"There are no scans to download for\", explab)\n",
    "                else:\n",
    "                    filenames = central.select.project(projectID).subject(subjectID).experiment(experimentID).scans()\n",
    "                    filenames.download(Results_Dir, type='ALL', extract=False, removeZip=True)   \n",
    "            else:\n",
    "                print(explab + \" already pulled\")\n",
    "print \"The total number of scanning sessions downloaded is = \" + str(number_subjects)\n"
   ]
  },
  {
   "cell_type": "markdown",
   "metadata": {},
   "source": [
    "## Sweet now we're rolling! \n",
    "To make life easy all our labs notebooks are going assume a BIDS format.\n",
    "As data curating can be a pain in the derrière, lets run a nice little function to sort that for us ;)\n",
    "\n",
    "## Dependencies\n",
    "\n",
    "#### A CIF_config.json has been created to match MRI acquisitions and label them in the correct format. \n",
    "This may need to be updated if new seqences are being collected. \n",
    "Requires the labels from the scan card for each acquisition being formated (NOTE: How these are displayed on the XNAT website unhelpfuly does not necessarily match with the actual data labels!)  \n",
    "\n",
    "#### Index files\n",
    "* I have used XDC (xnat data cliant) to pull metaData about scan labels from xnat.\n",
    "\n",
    "* The bids scripts are hardcoded to look for this metaData in a indexFiles directory within the working dir. This should contain two files for the project PROJECT_experiments.csv and PROJECT_subject.csv\n",
    "\n",
    "* This requires local setup. I have a function that runs through a list of TBI projects on xnat and downloads the metadata. If a proejct is not in the imaging directory try the XDC setup below. \n",
    "\n",
    "* The following XDC function can be used to pull project and subject information from xnat\n",
    "\n",
    "\n",
    "### XDC setup\n",
    "Install via the following instructions:\n",
    "https://wiki.xnat.org/xnat-tools/xnatdataclient\n",
    "\n",
    "This folder has been saved in the dependencies folder on the cluster (17/11/2021). \n",
    "\n",
    "\n",
    "**UPDATE**\n",
    "- Pass python variables and save output to working directory\n",
    "- Check paths in bash scripts called (CIF_unzip & bids_beta)\n",
    "\n"
   ]
  },
  {
   "cell_type": "code",
   "execution_count": null,
   "metadata": {},
   "outputs": [],
   "source": [
    "%%bash\n",
    "\n",
    "username= # update here\n",
    "password= # update here\n",
    "\n",
    "# Run xnat data client\n",
    "## This updates the indexing information from xnat which the bids script relies on\n",
    "java -jar /rds/general/project/c3nl_shared/live/dependencies/data-client-shadow-1.7.6/lib/XnatDataClient-1.7.6-all.jar -u ${username} -p ${password} -r \"http://wmec-transtec1.hh.med.ic.ac.uk:/data/archive/projects/ML/experiments?format=csv\" -o $base_dir/$projectID_experiments\n",
    "java -jar /rds/general/project/c3nl_shared/live/dependencies/data-client-shadow-1.7.6/lib/XnatDataClient-1.7.6-all.jar -u ${username} -p ${password} -r \"http://wmec-transtec1.hh.med.ic.ac.uk:/data/archive/projects/ML/subjects?format=csv\" -o $base_dir/$projectID_subject\n",
    "\n",
    "# Extract data\n",
    "./CIF_unzip -i ML\n",
    "./bids_beta -i ML -c CIF_config.json"
   ]
  },
  {
   "cell_type": "code",
   "execution_count": null,
   "metadata": {},
   "outputs": [],
   "source": [
    "%%bash -s \"$userName\" \"$passWord\" \"$projectID\" \"$base_dir\"\n",
    "echo \"This bash script knows about $1 and $2\""
   ]
  },
  {
   "cell_type": "markdown",
   "metadata": {},
   "source": [
    "## Extracting and indexing data from xnat\n",
    "\n",
    "The following functions are in the dependencies folder on the Imperial HPC along with the CIF_config.json file\n",
    "* New aquisitions need to be added to the CIF_config.json (this is a sort of dictionary for standardised naming)\n",
    "\n",
    "#### 1: CIF_unzip -i project\n",
    "    Unzips & indexes files downloaded from XNAT with more meaningfull labels such as participant ID and scan session.  \n",
    "    This sets up the initial file structure to run the conversion to BIDS.\n",
    "    \n",
    "#### 2: bids_proc -i project -c config.json\n",
    "    Loops over all subjects->sessions->modalities->scans and converts DICOMS to NIFTI.   \n",
    "    The labels for each of the scans on the scan card are then converted to match the BIDS format and file structure  \n",
    "    \n",
    "#### Sources of error\n",
    "* Conversion to nii at this point should be robust and all data will be in raw under the project name\n",
    "* Missing data in source directory is likely due to a **new exception** in how something was named on the scanner - this should be added to the config.json file. Be careful not to clash with similar names. \n",
    "* This works well for data comming off the CIF scanner (Imperial). Data from new sites have to be checked/validated as something in the structure may cause unexpected outcomes. \n",
    "\n",
    "\n",
    "##### Known bugs\n",
    "XDC as an alias set in .bash_profile wont be sourced in Jupyter, not sure why. \n",
    "\n",
    "Point to it by adding the following lines to your .bash_profile\n",
    "#XDC\n",
    "alias XDC='java -jar /rds/general/user/**nbourke**/home/data-client-shadow-1.7.6/lib/XnatDataClient-1.7.6-all.jar'\n"
   ]
  },
  {
   "cell_type": "markdown",
   "metadata": {},
   "source": [
    "\n"
   ]
  }
 ],
 "metadata": {
  "kernelspec": {
   "display_name": "Python 3",
   "language": "python",
   "name": "python3"
  },
  "language_info": {
   "codemirror_mode": {
    "name": "ipython",
    "version": 3
   },
   "file_extension": ".py",
   "mimetype": "text/x-python",
   "name": "python",
   "nbconvert_exporter": "python",
   "pygments_lexer": "ipython3",
   "version": "3.7.6"
  }
 },
 "nbformat": 4,
 "nbformat_minor": 4
}
