{
 "cells": [
  {
   "cell_type": "markdown",
   "metadata": {},
   "source": [
    "# Full project downloading data from XNAT\n",
    "\n",
    "#### Maria Yanez Lopez 2018 (maria.yanez-lopez@imperial.ac.uk)\n",
    "#### ~ adapted for full project download Niall Bourke Feb 2019 (n.bourke@imperial.ac.uk)\n",
    "### Documentation: \n",
    "\n",
    "https://github.com/pyxnat/pyxnat/blob/master/pyxnat/core/downloadutils.py\n",
    "\n",
    "https://groups.google.com/forum/#!topic/xnat_discussion/K8h4VP4CBMg\n",
    "\n",
    "https://gist.github.com/mattsouth/db8f2d09acf3c57ba605fa93c4e8d03e\n",
    "\n",
    "https://ubuntuforums.org/showthread.php?t=786879\n",
    "\n",
    "https://wiki.imperial.ac.uk/pages/viewpage.action?spaceKey=HPC&title=Jupyter\n",
    "\n",
    "Version 2.0 ~ Niall Bourke  \n",
    "Updated 24/09/2019  \n",
    "~ Checks for data that is already pulled from xnat to allow rolling updating of data on the HPC\n",
    " \n",
    "This scripts downloads DICOM data from XNAT according to users specifications."
   ]
  },
  {
   "cell_type": "markdown",
   "metadata": {},
   "source": [
    "### Import python libraries"
   ]
  },
  {
   "cell_type": "code",
   "execution_count": null,
   "metadata": {},
   "outputs": [],
   "source": [
    "import sys, os, getpass                           \n",
    "from pyxnat import Interface"
   ]
  },
  {
   "cell_type": "markdown",
   "metadata": {},
   "source": [
    "### Introduce your XNAT login details (same as college credentials) and project folder"
   ]
  },
  {
   "cell_type": "code",
   "execution_count": null,
   "metadata": {},
   "outputs": [],
   "source": [
    "userName = raw_input('Type XNAT User Name: ')\n",
    "passWord = getpass.getpass('Type XNAT Password: ')\n",
    "projectID = raw_input('Type XNAT Project ID: ')\n",
    "server = 'http://cif-xnat.hh.med.ic.ac.uk'"
   ]
  },
  {
   "cell_type": "code",
   "execution_count": null,
   "metadata": {},
   "outputs": [],
   "source": [
    "print 'INPUT'\n",
    "print 'Server: ', server\n",
    "print 'Username: ', userName\n",
    "print 'Password: ', ''.join(['*']*len(passWord))\n",
    "print 'ProjectID: ', projectID \n"
   ]
  },
  {
   "cell_type": "markdown",
   "metadata": {},
   "source": [
    "### Create PYXNAT interface"
   ]
  },
  {
   "cell_type": "code",
   "execution_count": null,
   "metadata": {},
   "outputs": [],
   "source": [
    "central = Interface(server=server, user=userName, password=passWord)\n",
    "\n",
    "# Full project download:\n",
    "subjects = central.select.project(projectID).subjects().get()\n",
    "\n",
    "# individual subject:\n",
    "#subID=\"CIF02_S00677\"\n",
    "#subjects = central.select.project(projectID).subjects(subID).get()\n",
    "\n",
    "print(subjects)\n",
    "allSessions = []\n",
    "number_subjects = 0"
   ]
  },
  {
   "cell_type": "markdown",
   "metadata": {},
   "source": [
    "### Browse through project, collect subjects/sessions/scans and print subject labels"
   ]
  },
  {
   "cell_type": "code",
   "execution_count": null,
   "metadata": {},
   "outputs": [],
   "source": [
    "for i, subject in enumerate(subjects):\n",
    "    label = central.select.project(projectID).subject(subject).label()\n",
    "    print label, ('%i/%i' % (i+1, len(subjects)))\n",
    "    sessions = central.select.project(projectID).subjects(subject).experiments().get()\n",
    "    allSessions.append(sessions)"
   ]
  },
  {
   "cell_type": "markdown",
   "metadata": {},
   "source": [
    "## Modify the output diretory, where the datasets will be saved form XNAT\n",
    " Set so path is always the tbi group raw direcotry and will download to a folder with the name of project being downloaded\n"
   ]
  },
  {
   "cell_type": "code",
   "execution_count": null,
   "metadata": {},
   "outputs": [],
   "source": [
    "\n",
    "dirName = os.path.join('/rds/general/project/c3nl_djs_imaging_data/live/data/raw/', projectID)\n",
    "\n",
    "# Create target Directory if don't exist\n",
    "if not os.path.exists(dirName):\n",
    "    os.mkdir(dirName)\n",
    "    print(\"Directory \" , dirName ,  \" Created \")\n",
    "else:    \n",
    "    print(\"Directory \" , dirName ,  \" already exists\")\n",
    "    \n",
    "Results_Dir = dirName # needs to exist or next cell will throw error\n"
   ]
  },
  {
   "cell_type": "markdown",
   "metadata": {},
   "source": [
    "### Download datasets\n",
    "This script will look into the predefined project. Check the printed output to look for duplicates and incomplete datasets."
   ]
  },
  {
   "cell_type": "code",
   "execution_count": null,
   "metadata": {},
   "outputs": [],
   "source": [
    "import glob \n",
    "\n",
    "subjectCounter = 0\n",
    "for s, subjectID in enumerate(subjects):\n",
    "    subjectLabel = central.select.project(projectID).subject(subjectID).label()\n",
    "    \n",
    "    for experimentID in allSessions[s]:\n",
    "            scans = central.select.project(projectID).subject(subjectID).experiments(experimentID).scans()\n",
    "            scanIDs = scans.get()\n",
    "            \n",
    "            coll = central.select.project(projectID).subject(subjectID).experiments(experimentID)\n",
    "            for ese in coll:\n",
    "                explab = ese.attrs.get('label')\n",
    "            \n",
    "            # Check if data has already been pulled\n",
    "            dataCheck = glob.glob(Results_Dir + \"/\" + subjectLabel + \"/*\" + explab )\n",
    "            #print(\"sub label is: \" + subjectLabel)\n",
    "            #print(\"exp label is: \" + explab)\n",
    "            dataCheck = ''.join(dataCheck) # covert list to string\n",
    "            #print(\"data path is: \" + dataCheck)\n",
    "            if not os.path.exists(dataCheck):\n",
    "                print(\"Downloading:\", explab)        \n",
    "                number_subjects+=1\n",
    "            \n",
    "                if len(scanIDs) == 0:\n",
    "                    print(\"There are no scans to download for\", explab)\n",
    "                else:\n",
    "                    filenames = central.select.project(projectID).subject(subjectID).experiment(experimentID).scans()\n",
    "                    filenames.download(Results_Dir, type='ALL', extract=False, removeZip=True)   \n",
    "            else:\n",
    "                print(explab + \" already pulled\")\n",
    "print \"The total number of scanning sessions downloaded is = \" + str(number_subjects)"
   ]
  },
  {
   "cell_type": "markdown",
   "metadata": {},
   "source": [
    "## Sweet now we're rolling! \n",
    "To make life easy all our labs notebooks are going assume a BIDS format.\n",
    "As data curating can be a pain in the derrière, lets run a nice little function to sort that for us ;)\n",
    "\n",
    "## Dependencies\n",
    "\n",
    "#### A CIF_config.json has been created to match MRI acquisitions and label them in the correct format. \n",
    "This may need to be update if new seqences are being collected. \n",
    "Requires the labels from the scan card for each acquisition being formated (NOTE: How these are displayed on the XNAT website unhelpfuly does not necessarily match with the actual data labels!)  \n",
    "\n",
    "#### Index files\n",
    "* I have used XDC (xnat data cliant) to pull metaData about scan labels from xnat.\n",
    "\n",
    "* The bids scripts are hardcoded to look for this metaData in a indexFiles directory within the working dir. This should contain two files for the project PROJECT_experiments.csv and PROJECT_subject.csv\n",
    "\n",
    "* This requires local setup. I have a function that runs through a list of TBI projects on xnat and downloads the metadata. If a proejct is not in the imaging directory try the XDC setup below. \n",
    "\n",
    "* The following XDC function can be used to pull project and subject information from xnat\n",
    "\n",
    "\n",
    "### XDC setup\n",
    "\n",
    "Install via the following instructions:\n",
    "https://wiki.xnat.org/xnat-tools/xnatdataclient\n",
    "\n",
    "\n",
    "Use some lines like the following to pull the csv files used for indexing and renaming the files"
   ]
  },
  {
   "cell_type": "code",
   "execution_count": null,
   "metadata": {},
   "outputs": [],
   "source": [
    "# XDC is an alias set in .bash_profile to the function which can be downloaded in the above link\n",
    "\n",
    "XDC -u USERNAME -p PASSWORD -r \"http://wmec-transtec1.hh.med.ic.ac.uk:/data/archive/projects/PROJECT/experiments?format=csv\" -o PROJECT_experiments\n",
    "    \n",
    "XDC -u USERNAME -p PASSWORD -r \"http://wmec-transtec1.hh.med.ic.ac.uk:/data/archive/projects/PROJECT/subjects?format=csv\" -o PROJECT_subject"
   ]
  },
  {
   "cell_type": "markdown",
   "metadata": {},
   "source": [
    "## Extracting and indexing data from xnat\n",
    "\n",
    "#### 1: bids_1_preproc -i project\n",
    "    Unzips & indexes files downloaded from XNAT with more meaningfull labels such as participant ID and scan session.  \n",
    "    This sets up the initial file structure to run the conversion to BIDS.\n",
    "    \n",
    "    \n",
    "#### 2: bids_2_proc -i project -c config.json\n",
    "    Loops over all subjects->sessions->modalities->scans and converts DICOMS to NIFTI.   \n",
    "    The labels for each of the scans on the scan card are then converted to match the BIDS format and file structure  \n",
    "    \n",
    "#### Sources of error\n",
    "* Conversion to nii at this point should be robust and all data will be in raw under the project name\n",
    "* Missing data in source directory is likely due to a new exception in how something was named on the scanner - this should be added to the config.json file. Be careful not to clash with similar names. \n",
    "* This works well for data comming off the CIF scanner (Imperial). Data from new sites have to be checked as something in the structure may cause unexpected outcomes. "
   ]
  },
  {
   "cell_type": "markdown",
   "metadata": {},
   "source": [
    "\n"
   ]
  }
 ],
 "metadata": {
  "kernelspec": {
   "display_name": "Python [conda env:py27]",
   "language": "python",
   "name": "conda-env-py27-py"
  },
  "language_info": {
   "codemirror_mode": {
    "name": "ipython",
    "version": 2
   },
   "file_extension": ".py",
   "mimetype": "text/x-python",
   "name": "python",
   "nbconvert_exporter": "python",
   "pygments_lexer": "ipython2",
   "version": "2.7.14"
  }
 },
 "nbformat": 4,
 "nbformat_minor": 2
}
